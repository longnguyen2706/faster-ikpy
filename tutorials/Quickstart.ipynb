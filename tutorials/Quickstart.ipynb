{
 "cells": [
  {
   "cell_type": "markdown",
   "metadata": {},
   "source": [
    "# IKpy Quickstart #"
   ]
  },
  {
   "cell_type": "markdown",
   "metadata": {},
   "source": [
    "# Requirements"
   ]
  },
  {
   "cell_type": "markdown",
   "metadata": {},
   "source": [
    "First, you need to install IKPy (see [installations instructions](https://github.com/Phylliade/ikpy)).\n",
    "You also need a URDF file.  \n",
    "By default, we use the files provided in the [resources](https://github.com/Phylliade/ikpy/tree/master/resources) folder of the IKPy repo."
   ]
  },
  {
   "cell_type": "markdown",
   "metadata": {},
   "source": [
    "Import the IKPy module : "
   ]
  },
  {
   "cell_type": "code",
   "execution_count": 13,
   "metadata": {
    "ExecuteTime": {
     "start_time": "2023-06-29T21:06:41.232539Z",
     "end_time": "2023-06-29T21:06:41.238633Z"
    }
   },
   "outputs": [],
   "source": [
    "import fasterikpy.chain\n",
    "import jax.numpy as jnp\n",
    "import fasterikpy.utils.plot as plot_utils"
   ]
  },
  {
   "cell_type": "markdown",
   "metadata": {},
   "source": [
    "The basic element of IKPy is the kinematic `Chain`.\n",
    "To create a chain from an URDF file : "
   ]
  },
  {
   "cell_type": "code",
   "execution_count": 14,
   "metadata": {
    "collapsed": false,
    "jupyter": {
     "outputs_hidden": false
    },
    "ExecuteTime": {
     "start_time": "2023-06-29T21:06:41.235187Z",
     "end_time": "2023-06-29T21:06:41.250921Z"
    }
   },
   "outputs": [],
   "source": [
    "my_chain = fasterikpy.chain.Chain.from_urdf_file(\"../resources/poppy_ergo.URDF\")"
   ]
  },
  {
   "cell_type": "markdown",
   "metadata": {},
   "source": [
    "Note : as mentioned before, here we use a file in the resource folder."
   ]
  },
  {
   "cell_type": "markdown",
   "metadata": {},
   "source": [
    "# Inverse kinematics"
   ]
  },
  {
   "cell_type": "markdown",
   "metadata": {},
   "source": [
    "In Inverse Kinematics, you want your kinematic chain to reach a 3D position in space."
   ]
  },
  {
   "cell_type": "markdown",
   "metadata": {},
   "source": [
    "To have a more general representation of position, IKPy works with homogeneous coordinates. It is a 4x4 matrix storing both position and orientation.\n",
    "Prepare your desired position as a 4x4 matrix. Here we only consider position, not orientation of the chain."
   ]
  },
  {
   "cell_type": "code",
   "execution_count": 15,
   "metadata": {
    "ExecuteTime": {
     "start_time": "2023-06-29T21:06:41.292389Z",
     "end_time": "2023-06-29T21:06:41.292505Z"
    }
   },
   "outputs": [],
   "source": [
    "target_position = [ 0.1, -0.2, 0.1]"
   ]
  },
  {
   "cell_type": "code",
   "execution_count": 16,
   "metadata": {
    "collapsed": false,
    "jupyter": {
     "outputs_hidden": false
    }
   },
   "outputs": [
    {
     "ename": "ConcretizationTypeError",
     "evalue": "Abstract tracer value encountered where concrete value is expected: traced array with shape int64[].\nThe size argument of jnp.nonzero must be statically specified to use jnp.nonzero within JAX transformations.\nThe error occurred while tracing the function optimize_function at /home/louis/.local/lib/python3.8/site-packages/fasterikpy/inverse_kinematics.py:70 for jit. This value became a tracer due to JAX operations on these lines:\n\n  operation a\u001B[35m:bool[7]\u001B[39m = pjit[jaxpr={ \u001B[34m\u001B[22m\u001B[1mlambda \u001B[39m\u001B[22m\u001B[22m; b\u001B[35m:bool[7]\u001B[39m. \u001B[34m\u001B[22m\u001B[1mlet\u001B[39m\u001B[22m\u001B[22m  \u001B[34m\u001B[22m\u001B[1min \u001B[39m\u001B[22m\u001B[22m(b,) } name=atleast_1d] c\n    from line /home/louis/.local/lib/python3.8/site-packages/fasterikpy/chain.py:338 (active_to_full)\n\nSee https://jax.readthedocs.io/en/latest/errors.html#jax.errors.ConcretizationTypeError",
     "output_type": "error",
     "traceback": [
      "\u001B[0;31m---------------------------------------------------------------------------\u001B[0m",
      "\u001B[0;31mConcretizationTypeError\u001B[0m                   Traceback (most recent call last)",
      "Cell \u001B[0;32mIn[16], line 1\u001B[0m\n\u001B[0;32m----> 1\u001B[0m \u001B[38;5;28mprint\u001B[39m(\u001B[38;5;124m\"\u001B[39m\u001B[38;5;124mThe angles of each joints are : \u001B[39m\u001B[38;5;124m\"\u001B[39m, \u001B[43mmy_chain\u001B[49m\u001B[38;5;241;43m.\u001B[39;49m\u001B[43minverse_kinematics\u001B[49m\u001B[43m(\u001B[49m\u001B[43mtarget_position\u001B[49m\u001B[43m)\u001B[49m)\n",
      "File \u001B[0;32m~/.local/lib/python3.8/site-packages/fasterikpy/chain.py:151\u001B[0m, in \u001B[0;36mChain.inverse_kinematics\u001B[0;34m(self, target_position, target_orientation, orientation_mode, **kwargs)\u001B[0m\n\u001B[1;32m    148\u001B[0m     no_position \u001B[38;5;241m=\u001B[39m \u001B[38;5;28;01mFalse\u001B[39;00m\n\u001B[1;32m    149\u001B[0m     frame_target\u001B[38;5;241m.\u001B[39mat[:\u001B[38;5;241m3\u001B[39m, \u001B[38;5;241m3\u001B[39m]\u001B[38;5;241m.\u001B[39mset(target_position)\n\u001B[0;32m--> 151\u001B[0m \u001B[38;5;28;01mreturn\u001B[39;00m \u001B[38;5;28;43mself\u001B[39;49m\u001B[38;5;241;43m.\u001B[39;49m\u001B[43minverse_kinematics_frame\u001B[49m\u001B[43m(\u001B[49m\u001B[43mtarget\u001B[49m\u001B[38;5;241;43m=\u001B[39;49m\u001B[43mframe_target\u001B[49m\u001B[43m,\u001B[49m\u001B[43m \u001B[49m\u001B[43morientation_mode\u001B[49m\u001B[38;5;241;43m=\u001B[39;49m\u001B[43morientation_mode\u001B[49m\u001B[43m,\u001B[49m\u001B[43m \u001B[49m\u001B[43mno_position\u001B[49m\u001B[38;5;241;43m=\u001B[39;49m\u001B[43mno_position\u001B[49m\u001B[43m,\u001B[49m\u001B[43m \u001B[49m\u001B[38;5;241;43m*\u001B[39;49m\u001B[38;5;241;43m*\u001B[39;49m\u001B[43mkwargs\u001B[49m\u001B[43m)\u001B[49m\n",
      "File \u001B[0;32m~/.local/lib/python3.8/site-packages/fasterikpy/chain.py:177\u001B[0m, in \u001B[0;36mChain.inverse_kinematics_frame\u001B[0;34m(self, target, initial_position, **kwargs)\u001B[0m\n\u001B[1;32m    174\u001B[0m \u001B[38;5;28;01mif\u001B[39;00m initial_position \u001B[38;5;129;01mis\u001B[39;00m \u001B[38;5;28;01mNone\u001B[39;00m:\n\u001B[1;32m    175\u001B[0m     initial_position \u001B[38;5;241m=\u001B[39m [\u001B[38;5;241m0\u001B[39m] \u001B[38;5;241m*\u001B[39m \u001B[38;5;28mlen\u001B[39m(\u001B[38;5;28mself\u001B[39m\u001B[38;5;241m.\u001B[39mlinks)\n\u001B[0;32m--> 177\u001B[0m \u001B[38;5;28;01mreturn\u001B[39;00m \u001B[43mik\u001B[49m\u001B[38;5;241;43m.\u001B[39;49m\u001B[43minverse_kinematic_optimization\u001B[49m\u001B[43m(\u001B[49m\u001B[38;5;28;43mself\u001B[39;49m\u001B[43m,\u001B[49m\u001B[43m \u001B[49m\u001B[43mtarget\u001B[49m\u001B[43m,\u001B[49m\u001B[43m \u001B[49m\u001B[43mstarting_nodes_angles\u001B[49m\u001B[38;5;241;43m=\u001B[39;49m\u001B[43minitial_position\u001B[49m\u001B[43m,\u001B[49m\u001B[43m \u001B[49m\u001B[38;5;241;43m*\u001B[39;49m\u001B[38;5;241;43m*\u001B[39;49m\u001B[43mkwargs\u001B[49m\u001B[43m)\u001B[49m\n",
      "File \u001B[0;32m~/.local/lib/python3.8/site-packages/fasterikpy/inverse_kinematics.py:156\u001B[0m, in \u001B[0;36minverse_kinematic_optimization\u001B[0;34m(chain, target_frame, starting_nodes_angles, regularization_parameter, max_iter, orientation_mode, no_position, optimizer)\u001B[0m\n\u001B[1;32m    154\u001B[0m     jax\u001B[38;5;241m.\u001B[39mconfig\u001B[38;5;241m.\u001B[39mupdate(\u001B[38;5;124m\"\u001B[39m\u001B[38;5;124mjax_enable_x64\u001B[39m\u001B[38;5;124m\"\u001B[39m, \u001B[38;5;28;01mTrue\u001B[39;00m)\n\u001B[1;32m    155\u001B[0m     solver \u001B[38;5;241m=\u001B[39m jaxopt\u001B[38;5;241m.\u001B[39mScipyBoundedLeastSquares(fun\u001B[38;5;241m=\u001B[39moptimize_total)\n\u001B[0;32m--> 156\u001B[0m     res \u001B[38;5;241m=\u001B[39m \u001B[43msolver\u001B[49m\u001B[38;5;241;43m.\u001B[39;49m\u001B[43mrun\u001B[49m\u001B[43m(\u001B[49m\u001B[43mchain\u001B[49m\u001B[38;5;241;43m.\u001B[39;49m\u001B[43mactive_from_full\u001B[49m\u001B[43m(\u001B[49m\u001B[43mstarting_nodes_angles\u001B[49m\u001B[43m)\u001B[49m\u001B[43m,\u001B[49m\u001B[43mbounds\u001B[49m\u001B[38;5;241;43m=\u001B[39;49m\u001B[43mreal_bounds\u001B[49m\u001B[43m)\u001B[49m\n\u001B[1;32m    158\u001B[0m \u001B[38;5;28;01mif\u001B[39;00m res\u001B[38;5;241m.\u001B[39mstatus \u001B[38;5;241m!=\u001B[39m \u001B[38;5;241m-\u001B[39m\u001B[38;5;241m1\u001B[39m:\n\u001B[1;32m    159\u001B[0m     logs\u001B[38;5;241m.\u001B[39mlogger\u001B[38;5;241m.\u001B[39minfo(\u001B[38;5;124m\"\u001B[39m\u001B[38;5;124mInverse kinematic optimisation OK, termination status: \u001B[39m\u001B[38;5;132;01m{}\u001B[39;00m\u001B[38;5;124m\"\u001B[39m\u001B[38;5;241m.\u001B[39mformat(res\u001B[38;5;241m.\u001B[39mstatus))\n",
      "File \u001B[0;32m~/.local/lib/python3.8/site-packages/jaxopt/_src/implicit_diff.py:251\u001B[0m, in \u001B[0;36m_custom_root.<locals>.wrapped_solver_fun\u001B[0;34m(*args, **kwargs)\u001B[0m\n\u001B[1;32m    249\u001B[0m args, kwargs \u001B[38;5;241m=\u001B[39m _signature_bind(solver_fun_signature, \u001B[38;5;241m*\u001B[39margs, \u001B[38;5;241m*\u001B[39m\u001B[38;5;241m*\u001B[39mkwargs)\n\u001B[1;32m    250\u001B[0m keys, vals \u001B[38;5;241m=\u001B[39m \u001B[38;5;28mlist\u001B[39m(kwargs\u001B[38;5;241m.\u001B[39mkeys()), \u001B[38;5;28mlist\u001B[39m(kwargs\u001B[38;5;241m.\u001B[39mvalues())\n\u001B[0;32m--> 251\u001B[0m \u001B[38;5;28;01mreturn\u001B[39;00m \u001B[43mmake_custom_vjp_solver_fun\u001B[49m\u001B[43m(\u001B[49m\u001B[43msolver_fun\u001B[49m\u001B[43m,\u001B[49m\u001B[43m \u001B[49m\u001B[43mkeys\u001B[49m\u001B[43m)\u001B[49m\u001B[43m(\u001B[49m\u001B[38;5;241;43m*\u001B[39;49m\u001B[43margs\u001B[49m\u001B[43m,\u001B[49m\u001B[43m \u001B[49m\u001B[38;5;241;43m*\u001B[39;49m\u001B[43mvals\u001B[49m\u001B[43m)\u001B[49m\n",
      "    \u001B[0;31m[... skipping hidden 5 frame]\u001B[0m\n",
      "File \u001B[0;32m~/.local/lib/python3.8/site-packages/jaxopt/_src/implicit_diff.py:207\u001B[0m, in \u001B[0;36m_custom_root.<locals>.make_custom_vjp_solver_fun.<locals>.solver_fun_flat\u001B[0;34m(*flat_args)\u001B[0m\n\u001B[1;32m    204\u001B[0m \u001B[38;5;129m@jax\u001B[39m\u001B[38;5;241m.\u001B[39mcustom_vjp\n\u001B[1;32m    205\u001B[0m \u001B[38;5;28;01mdef\u001B[39;00m \u001B[38;5;21msolver_fun_flat\u001B[39m(\u001B[38;5;241m*\u001B[39mflat_args):\n\u001B[1;32m    206\u001B[0m   args, kwargs \u001B[38;5;241m=\u001B[39m _extract_kwargs(kwarg_keys, flat_args)\n\u001B[0;32m--> 207\u001B[0m   \u001B[38;5;28;01mreturn\u001B[39;00m \u001B[43msolver_fun\u001B[49m\u001B[43m(\u001B[49m\u001B[38;5;241;43m*\u001B[39;49m\u001B[43margs\u001B[49m\u001B[43m,\u001B[49m\u001B[43m \u001B[49m\u001B[38;5;241;43m*\u001B[39;49m\u001B[38;5;241;43m*\u001B[39;49m\u001B[43mkwargs\u001B[49m\u001B[43m)\u001B[49m\n",
      "File \u001B[0;32m~/.local/lib/python3.8/site-packages/jaxopt/_src/scipy_wrappers.py:755\u001B[0m, in \u001B[0;36mScipyBoundedLeastSquares.run\u001B[0;34m(self, init_params, bounds, *args, **kwargs)\u001B[0m\n\u001B[1;32m    739\u001B[0m \u001B[38;5;28;01mdef\u001B[39;00m \u001B[38;5;21mrun\u001B[39m(\u001B[38;5;28mself\u001B[39m,\n\u001B[1;32m    740\u001B[0m         init_params: Any,\n\u001B[1;32m    741\u001B[0m         bounds: Optional[Any],\n\u001B[1;32m    742\u001B[0m         \u001B[38;5;241m*\u001B[39margs,\n\u001B[1;32m    743\u001B[0m         \u001B[38;5;241m*\u001B[39m\u001B[38;5;241m*\u001B[39mkwargs) \u001B[38;5;241m-\u001B[39m\u001B[38;5;241m>\u001B[39m base\u001B[38;5;241m.\u001B[39mOptStep:\n\u001B[1;32m    744\u001B[0m \u001B[38;5;250m  \u001B[39m\u001B[38;5;124;03m\"\"\"Runs the solver.\u001B[39;00m\n\u001B[1;32m    745\u001B[0m \n\u001B[1;32m    746\u001B[0m \u001B[38;5;124;03m  Args:\u001B[39;00m\n\u001B[0;32m   (...)\u001B[0m\n\u001B[1;32m    753\u001B[0m \u001B[38;5;124;03m    (params, info).\u001B[39;00m\n\u001B[1;32m    754\u001B[0m \u001B[38;5;124;03m  \"\"\"\u001B[39;00m\n\u001B[0;32m--> 755\u001B[0m   \u001B[38;5;28;01mreturn\u001B[39;00m \u001B[38;5;28;43mself\u001B[39;49m\u001B[38;5;241;43m.\u001B[39;49m\u001B[43m_run\u001B[49m\u001B[43m(\u001B[49m\u001B[43minit_params\u001B[49m\u001B[43m,\u001B[49m\u001B[43m \u001B[49m\u001B[43mbounds\u001B[49m\u001B[43m,\u001B[49m\u001B[43m \u001B[49m\u001B[38;5;241;43m*\u001B[39;49m\u001B[43margs\u001B[49m\u001B[43m,\u001B[49m\u001B[43m \u001B[49m\u001B[38;5;241;43m*\u001B[39;49m\u001B[38;5;241;43m*\u001B[39;49m\u001B[43mkwargs\u001B[49m\u001B[43m)\u001B[49m\n",
      "File \u001B[0;32m~/.local/lib/python3.8/site-packages/jaxopt/_src/scipy_wrappers.py:613\u001B[0m, in \u001B[0;36mScipyLeastSquares._run\u001B[0;34m(self, init_params, bounds, *args, **kwargs)\u001B[0m\n\u001B[1;32m    611\u001B[0m \u001B[38;5;250m\u001B[39m\u001B[38;5;124;03m\"\"\"Wraps `scipy.optimize.least_squares`.\"\"\"\u001B[39;00m\n\u001B[1;32m    612\u001B[0m \u001B[38;5;66;03m# Sets up the \"JAX-SciPy\" bridge.\u001B[39;00m\n\u001B[0;32m--> 613\u001B[0m init_output \u001B[38;5;241m=\u001B[39m \u001B[38;5;28;43mself\u001B[39;49m\u001B[38;5;241;43m.\u001B[39;49m\u001B[43mfun\u001B[49m\u001B[43m(\u001B[49m\u001B[43minit_params\u001B[49m\u001B[43m,\u001B[49m\u001B[43m \u001B[49m\u001B[38;5;241;43m*\u001B[39;49m\u001B[43margs\u001B[49m\u001B[43m,\u001B[49m\u001B[43m \u001B[49m\u001B[38;5;241;43m*\u001B[39;49m\u001B[38;5;241;43m*\u001B[39;49m\u001B[43mkwargs\u001B[49m\u001B[43m)\u001B[49m\n\u001B[1;32m    614\u001B[0m input_pytree_topology \u001B[38;5;241m=\u001B[39m pytree_topology_from_example(init_params)\n\u001B[1;32m    615\u001B[0m output_pytree_topology \u001B[38;5;241m=\u001B[39m pytree_topology_from_example(init_output)\n",
      "    \u001B[0;31m[... skipping hidden 12 frame]\u001B[0m\n",
      "File \u001B[0;32m~/.local/lib/python3.8/site-packages/fasterikpy/inverse_kinematics.py:71\u001B[0m, in \u001B[0;36minverse_kinematic_optimization.<locals>.optimize_function\u001B[0;34m(x)\u001B[0m\n\u001B[1;32m     70\u001B[0m \u001B[38;5;28;01mdef\u001B[39;00m \u001B[38;5;21moptimize_function\u001B[39m(x):\n\u001B[0;32m---> 71\u001B[0m     fk \u001B[38;5;241m=\u001B[39m \u001B[43moptimize_basis\u001B[49m\u001B[43m(\u001B[49m\u001B[43mx\u001B[49m\u001B[43m)\u001B[49m\n\u001B[1;32m     72\u001B[0m     target_error \u001B[38;5;241m=\u001B[39m optimize_target_function(fk)\n\u001B[1;32m     73\u001B[0m     \u001B[38;5;28;01mreturn\u001B[39;00m target_error\n",
      "File \u001B[0;32m~/.local/lib/python3.8/site-packages/fasterikpy/inverse_kinematics.py:52\u001B[0m, in \u001B[0;36minverse_kinematic_optimization.<locals>.optimize_basis\u001B[0;34m(x)\u001B[0m\n\u001B[1;32m     50\u001B[0m \u001B[38;5;28;01mdef\u001B[39;00m \u001B[38;5;21moptimize_basis\u001B[39m(x):\n\u001B[1;32m     51\u001B[0m     \u001B[38;5;66;03m# y = jnp.append(starting_nodes_angles[:chain.first_active_joint], x)\u001B[39;00m\n\u001B[0;32m---> 52\u001B[0m     y \u001B[38;5;241m=\u001B[39m \u001B[43mchain\u001B[49m\u001B[38;5;241;43m.\u001B[39;49m\u001B[43mactive_to_full\u001B[49m\u001B[43m(\u001B[49m\u001B[43mx\u001B[49m\u001B[43m,\u001B[49m\u001B[43m \u001B[49m\u001B[43mstarting_nodes_angles\u001B[49m\u001B[43m)\u001B[49m\n\u001B[1;32m     53\u001B[0m     fk \u001B[38;5;241m=\u001B[39m chain\u001B[38;5;241m.\u001B[39mforward_kinematics(y)\n\u001B[1;32m     55\u001B[0m     \u001B[38;5;28;01mreturn\u001B[39;00m fk\n",
      "File \u001B[0;32m~/.local/lib/python3.8/site-packages/fasterikpy/chain.py:338\u001B[0m, in \u001B[0;36mChain.active_to_full\u001B[0;34m(self, active_joints, initial_position)\u001B[0m\n\u001B[1;32m    335\u001B[0m \u001B[38;5;28;01mdef\u001B[39;00m \u001B[38;5;21mactive_to_full\u001B[39m(\u001B[38;5;28mself\u001B[39m, active_joints, initial_position):\n\u001B[1;32m    336\u001B[0m     full_joints \u001B[38;5;241m=\u001B[39m jnp\u001B[38;5;241m.\u001B[39marray(initial_position, copy\u001B[38;5;241m=\u001B[39m\u001B[38;5;28;01mTrue\u001B[39;00m, dtype\u001B[38;5;241m=\u001B[39mjnp\u001B[38;5;241m.\u001B[39mfloat64)\n\u001B[0;32m--> 338\u001B[0m     indices \u001B[38;5;241m=\u001B[39m \u001B[43mjnp\u001B[49m\u001B[38;5;241;43m.\u001B[39;49m\u001B[43mwhere\u001B[49m\u001B[43m(\u001B[49m\u001B[38;5;28;43mself\u001B[39;49m\u001B[38;5;241;43m.\u001B[39;49m\u001B[43mactive_links_mask\u001B[49m\u001B[43m)\u001B[49m[\u001B[38;5;241m0\u001B[39m]\n\u001B[1;32m    339\u001B[0m     \u001B[38;5;28mprint\u001B[39m(\u001B[38;5;124m\"\u001B[39m\u001B[38;5;124mactive_links_mask\u001B[39m\u001B[38;5;124m\"\u001B[39m, \u001B[38;5;28mself\u001B[39m\u001B[38;5;241m.\u001B[39mactive_links_mask, indices, active_joints)\n\u001B[1;32m    340\u001B[0m     full_joints\u001B[38;5;241m.\u001B[39mat(indices)\u001B[38;5;241m.\u001B[39mset(active_joints)\n",
      "File \u001B[0;32m~/.local/lib/python3.8/site-packages/jax/_src/numpy/lax_numpy.py:1092\u001B[0m, in \u001B[0;36mwhere\u001B[0;34m(condition, x, y, size, fill_value)\u001B[0m\n\u001B[1;32m   1090\u001B[0m \u001B[38;5;28;01mif\u001B[39;00m x \u001B[38;5;129;01mis\u001B[39;00m \u001B[38;5;28;01mNone\u001B[39;00m \u001B[38;5;129;01mand\u001B[39;00m y \u001B[38;5;129;01mis\u001B[39;00m \u001B[38;5;28;01mNone\u001B[39;00m:\n\u001B[1;32m   1091\u001B[0m   util\u001B[38;5;241m.\u001B[39mcheck_arraylike(\u001B[38;5;124m\"\u001B[39m\u001B[38;5;124mwhere\u001B[39m\u001B[38;5;124m\"\u001B[39m, condition)\n\u001B[0;32m-> 1092\u001B[0m   \u001B[38;5;28;01mreturn\u001B[39;00m \u001B[43mnonzero\u001B[49m\u001B[43m(\u001B[49m\u001B[43mcondition\u001B[49m\u001B[43m,\u001B[49m\u001B[43m \u001B[49m\u001B[43msize\u001B[49m\u001B[38;5;241;43m=\u001B[39;49m\u001B[43msize\u001B[49m\u001B[43m,\u001B[49m\u001B[43m \u001B[49m\u001B[43mfill_value\u001B[49m\u001B[38;5;241;43m=\u001B[39;49m\u001B[43mfill_value\u001B[49m\u001B[43m)\u001B[49m\n\u001B[1;32m   1093\u001B[0m \u001B[38;5;28;01melse\u001B[39;00m:\n\u001B[1;32m   1094\u001B[0m   util\u001B[38;5;241m.\u001B[39mcheck_arraylike(\u001B[38;5;124m\"\u001B[39m\u001B[38;5;124mwhere\u001B[39m\u001B[38;5;124m\"\u001B[39m, condition, x, y)\n",
      "File \u001B[0;32m~/.local/lib/python3.8/site-packages/jax/_src/numpy/lax_numpy.py:1359\u001B[0m, in \u001B[0;36mnonzero\u001B[0;34m(***failed resolving arguments***)\u001B[0m\n\u001B[1;32m   1357\u001B[0m   size \u001B[38;5;241m=\u001B[39m mask\u001B[38;5;241m.\u001B[39msum()\n\u001B[1;32m   1358\u001B[0m \u001B[38;5;28;01mif\u001B[39;00m \u001B[38;5;129;01mnot\u001B[39;00m core\u001B[38;5;241m.\u001B[39mis_special_dim_size(size):\n\u001B[0;32m-> 1359\u001B[0m   size \u001B[38;5;241m=\u001B[39m \u001B[43mcore\u001B[49m\u001B[38;5;241;43m.\u001B[39;49m\u001B[43mconcrete_or_error\u001B[49m\u001B[43m(\u001B[49m\u001B[43moperator\u001B[49m\u001B[38;5;241;43m.\u001B[39;49m\u001B[43mindex\u001B[49m\u001B[43m,\u001B[49m\u001B[43m \u001B[49m\u001B[43msize\u001B[49m\u001B[43m,\u001B[49m\n\u001B[1;32m   1360\u001B[0m \u001B[43m    \u001B[49m\u001B[38;5;124;43m\"\u001B[39;49m\u001B[38;5;124;43mThe size argument of jnp.nonzero must be statically specified \u001B[39;49m\u001B[38;5;124;43m\"\u001B[39;49m\n\u001B[1;32m   1361\u001B[0m \u001B[43m    \u001B[49m\u001B[38;5;124;43m\"\u001B[39;49m\u001B[38;5;124;43mto use jnp.nonzero within JAX transformations.\u001B[39;49m\u001B[38;5;124;43m\"\u001B[39;49m\u001B[43m)\u001B[49m\n\u001B[1;32m   1362\u001B[0m \u001B[38;5;28;01mif\u001B[39;00m arr\u001B[38;5;241m.\u001B[39msize \u001B[38;5;241m==\u001B[39m \u001B[38;5;241m0\u001B[39m \u001B[38;5;129;01mor\u001B[39;00m size \u001B[38;5;241m==\u001B[39m \u001B[38;5;241m0\u001B[39m:\n\u001B[1;32m   1363\u001B[0m   \u001B[38;5;28;01mreturn\u001B[39;00m \u001B[38;5;28mtuple\u001B[39m(zeros(size, \u001B[38;5;28mint\u001B[39m) \u001B[38;5;28;01mfor\u001B[39;00m dim \u001B[38;5;129;01min\u001B[39;00m arr\u001B[38;5;241m.\u001B[39mshape)\n",
      "File \u001B[0;32m~/.local/lib/python3.8/site-packages/jax/_src/core.py:1381\u001B[0m, in \u001B[0;36mconcrete_or_error\u001B[0;34m(force, val, context)\u001B[0m\n\u001B[1;32m   1379\u001B[0m     \u001B[38;5;28;01mreturn\u001B[39;00m force(val\u001B[38;5;241m.\u001B[39maval\u001B[38;5;241m.\u001B[39mval)\n\u001B[1;32m   1380\u001B[0m   \u001B[38;5;28;01melse\u001B[39;00m:\n\u001B[0;32m-> 1381\u001B[0m     \u001B[38;5;28;01mraise\u001B[39;00m ConcretizationTypeError(val, context)\n\u001B[1;32m   1382\u001B[0m \u001B[38;5;28;01melse\u001B[39;00m:\n\u001B[1;32m   1383\u001B[0m   \u001B[38;5;28;01mreturn\u001B[39;00m force(val)\n",
      "\u001B[0;31mConcretizationTypeError\u001B[0m: Abstract tracer value encountered where concrete value is expected: traced array with shape int64[].\nThe size argument of jnp.nonzero must be statically specified to use jnp.nonzero within JAX transformations.\nThe error occurred while tracing the function optimize_function at /home/louis/.local/lib/python3.8/site-packages/fasterikpy/inverse_kinematics.py:70 for jit. This value became a tracer due to JAX operations on these lines:\n\n  operation a\u001B[35m:bool[7]\u001B[39m = pjit[jaxpr={ \u001B[34m\u001B[22m\u001B[1mlambda \u001B[39m\u001B[22m\u001B[22m; b\u001B[35m:bool[7]\u001B[39m. \u001B[34m\u001B[22m\u001B[1mlet\u001B[39m\u001B[22m\u001B[22m  \u001B[34m\u001B[22m\u001B[1min \u001B[39m\u001B[22m\u001B[22m(b,) } name=atleast_1d] c\n    from line /home/louis/.local/lib/python3.8/site-packages/fasterikpy/chain.py:338 (active_to_full)\n\nSee https://jax.readthedocs.io/en/latest/errors.html#jax.errors.ConcretizationTypeError"
     ]
    }
   ],
   "source": [
    "print(\"The angles of each joints are : \", my_chain.inverse_kinematics(target_position))"
   ]
  },
  {
   "cell_type": "markdown",
   "metadata": {},
   "source": [
    "You can check that the Inverse Kinematics is correct by comparing with the original position vector : "
   ]
  },
  {
   "cell_type": "code",
   "execution_count": null,
   "metadata": {
    "collapsed": false,
    "jupyter": {
     "outputs_hidden": false
    }
   },
   "outputs": [],
   "source": [
    "real_frame = my_chain.forward_kinematics(my_chain.inverse_kinematics(target_position))\n",
    "print(\"Computed position vector : %s, original position vector : %s\" % (real_frame[:3, 3], target_position))"
   ]
  },
  {
   "cell_type": "markdown",
   "metadata": {},
   "source": [
    "# Plotting\n",
    "And finally plot the result : "
   ]
  },
  {
   "cell_type": "markdown",
   "metadata": {},
   "source": [
    "(If the code below doesn't work, comment the `%maplotlib widget` line, and uncomment the `%matplotlib inline` line)"
   ]
  },
  {
   "cell_type": "code",
   "execution_count": null,
   "metadata": {
    "collapsed": false,
    "jupyter": {
     "outputs_hidden": false
    }
   },
   "outputs": [],
   "source": [
    "# Optional: support for 3D plotting in the NB\n",
    "# If there is a matplotlib error, uncomment the next line, and comment the line below it.\n",
    "# %matplotlib inline\n",
    "%matplotlib widget\n",
    "import matplotlib.pyplot as plt\n",
    "fig, ax = plot_utils.init_3d_figure()\n",
    "my_chain.plot(my_chain.inverse_kinematics(target_position), ax, target=target_position)\n",
    "plt.xlim(-0.1, 0.1)\n",
    "plt.ylim(-0.1, 0.1)"
   ]
  },
  {
   "cell_type": "markdown",
   "metadata": {},
   "source": [
    "You're done! Go to the [tutorials](https://github.com/Phylliade/ikpy/blob/master/tutorials/ikpy/getting_started.md) to understand the general concepts of the library."
   ]
  },
  {
   "cell_type": "code",
   "execution_count": null,
   "metadata": {},
   "outputs": [],
   "source": []
  }
 ],
 "metadata": {
  "kernelspec": {
   "display_name": "Python 3",
   "language": "python",
   "name": "python3"
  },
  "language_info": {
   "codemirror_mode": {
    "name": "ipython",
    "version": 3
   },
   "file_extension": ".py",
   "mimetype": "text/x-python",
   "name": "python",
   "nbconvert_exporter": "python",
   "pygments_lexer": "ipython3",
   "version": "3.9.6"
  },
  "pycharm": {
   "stem_cell": {
    "cell_type": "raw",
    "metadata": {
     "collapsed": false
    },
    "source": []
   }
  },
  "widgets": {
   "state": {},
   "version": "1.1.2"
  }
 },
 "nbformat": 4,
 "nbformat_minor": 4
}

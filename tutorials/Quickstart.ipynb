{
 "cells": [
  {
   "cell_type": "markdown",
   "metadata": {},
   "source": [
    "# IKpy Quickstart #"
   ]
  },
  {
   "cell_type": "markdown",
   "metadata": {},
   "source": [
    "# Requirements"
   ]
  },
  {
   "cell_type": "markdown",
   "metadata": {},
   "source": [
    "First, you need to install IKPy (see [installations instructions](https://github.com/Phylliade/ikpy)).\n",
    "You also need a URDF file.  \n",
    "By default, we use the files provided in the [resources](https://github.com/Phylliade/ikpy/tree/master/resources) folder of the IKPy repo."
   ]
  },
  {
   "cell_type": "markdown",
   "metadata": {},
   "source": [
    "Import the IKPy module : "
   ]
  },
  {
   "cell_type": "code",
   "execution_count": 1,
   "metadata": {
    "ExecuteTime": {
     "start_time": "2023-06-28T16:56:22.173665Z",
     "end_time": "2023-06-28T16:56:23.265265Z"
    }
   },
   "outputs": [],
   "source": [
    "import fasterikpy.chain\n",
    "import cupy as cp\n",
    "import fasterikpy.utils.plot as plot_utils"
   ]
  },
  {
   "cell_type": "markdown",
   "metadata": {},
   "source": [
    "The basic element of IKPy is the kinematic `Chain`.\n",
    "To create a chain from an URDF file : "
   ]
  },
  {
   "cell_type": "code",
   "execution_count": 2,
   "metadata": {
    "collapsed": false,
    "jupyter": {
     "outputs_hidden": false
    }
   },
   "outputs": [
    {
     "ename": "AttributeError",
     "evalue": "'list' object has no attribute 'dtype'",
     "output_type": "error",
     "traceback": [
      "\u001B[0;31m---------------------------------------------------------------------------\u001B[0m",
      "\u001B[0;31mAttributeError\u001B[0m                            Traceback (most recent call last)",
      "Cell \u001B[0;32mIn[2], line 1\u001B[0m\n\u001B[0;32m----> 1\u001B[0m my_chain \u001B[38;5;241m=\u001B[39m \u001B[43mfasterikpy\u001B[49m\u001B[38;5;241;43m.\u001B[39;49m\u001B[43mchain\u001B[49m\u001B[38;5;241;43m.\u001B[39;49m\u001B[43mChain\u001B[49m\u001B[38;5;241;43m.\u001B[39;49m\u001B[43mfrom_urdf_file\u001B[49m\u001B[43m(\u001B[49m\u001B[38;5;124;43m\"\u001B[39;49m\u001B[38;5;124;43m../resources/poppy_ergo.URDF\u001B[39;49m\u001B[38;5;124;43m\"\u001B[39;49m\u001B[43m)\u001B[49m\n",
      "File \u001B[0;32m~/.local/lib/python3.8/site-packages/fasterikpy/chain.py:324\u001B[0m, in \u001B[0;36mChain.from_urdf_file\u001B[0;34m(cls, urdf_file, base_elements, last_link_vector, base_element_type, active_links_mask, name, symbolic)\u001B[0m\n\u001B[1;32m    321\u001B[0m \u001B[38;5;28;01mif\u001B[39;00m base_elements \u001B[38;5;129;01mis\u001B[39;00m \u001B[38;5;28;01mNone\u001B[39;00m:\n\u001B[1;32m    322\u001B[0m     base_elements \u001B[38;5;241m=\u001B[39m [\u001B[38;5;124m\"\u001B[39m\u001B[38;5;124mbase_link\u001B[39m\u001B[38;5;124m\"\u001B[39m]\n\u001B[0;32m--> 324\u001B[0m links \u001B[38;5;241m=\u001B[39m \u001B[43mURDF\u001B[49m\u001B[38;5;241;43m.\u001B[39;49m\u001B[43mget_urdf_parameters\u001B[49m\u001B[43m(\u001B[49m\u001B[43murdf_file\u001B[49m\u001B[43m,\u001B[49m\u001B[43m \u001B[49m\u001B[43mbase_elements\u001B[49m\u001B[38;5;241;43m=\u001B[39;49m\u001B[43mbase_elements\u001B[49m\u001B[43m,\u001B[49m\u001B[43m \u001B[49m\u001B[43mlast_link_vector\u001B[49m\u001B[38;5;241;43m=\u001B[39;49m\u001B[43mlast_link_vector\u001B[49m\u001B[43m,\u001B[49m\u001B[43m \u001B[49m\u001B[43mbase_element_type\u001B[49m\u001B[38;5;241;43m=\u001B[39;49m\u001B[43mbase_element_type\u001B[49m\u001B[43m,\u001B[49m\u001B[43m \u001B[49m\u001B[43msymbolic\u001B[49m\u001B[38;5;241;43m=\u001B[39;49m\u001B[43msymbolic\u001B[49m\u001B[43m)\u001B[49m\n\u001B[1;32m    325\u001B[0m \u001B[38;5;66;03m# Add an origin link at the beginning\u001B[39;00m\n\u001B[1;32m    326\u001B[0m chain \u001B[38;5;241m=\u001B[39m \u001B[38;5;28mcls\u001B[39m([link_lib\u001B[38;5;241m.\u001B[39mOriginLink()] \u001B[38;5;241m+\u001B[39m links, active_links_mask\u001B[38;5;241m=\u001B[39mactive_links_mask, name\u001B[38;5;241m=\u001B[39mname, urdf_metadata\u001B[38;5;241m=\u001B[39murdf_metadata)\n",
      "File \u001B[0;32m~/.local/lib/python3.8/site-packages/fasterikpy/urdf/URDF.py:272\u001B[0m, in \u001B[0;36mget_urdf_parameters\u001B[0;34m(urdf_file, base_elements, last_link_vector, base_element_type, symbolic)\u001B[0m\n\u001B[1;32m    269\u001B[0m         \u001B[38;5;28;01mif\u001B[39;00m \u001B[38;5;124m\"\u001B[39m\u001B[38;5;124mupper\u001B[39m\u001B[38;5;124m\"\u001B[39m \u001B[38;5;129;01min\u001B[39;00m limit\u001B[38;5;241m.\u001B[39mattrib:\n\u001B[1;32m    270\u001B[0m             bounds[\u001B[38;5;241m1\u001B[39m] \u001B[38;5;241m=\u001B[39m \u001B[38;5;28mfloat\u001B[39m(limit\u001B[38;5;241m.\u001B[39mattrib[\u001B[38;5;124m\"\u001B[39m\u001B[38;5;124mupper\u001B[39m\u001B[38;5;124m\"\u001B[39m])\n\u001B[0;32m--> 272\u001B[0m     parameters\u001B[38;5;241m.\u001B[39mappend(\u001B[43mlib_link\u001B[49m\u001B[38;5;241;43m.\u001B[39;49m\u001B[43mURDFLink\u001B[49m\u001B[43m(\u001B[49m\n\u001B[1;32m    273\u001B[0m \u001B[43m        \u001B[49m\u001B[43mname\u001B[49m\u001B[38;5;241;43m=\u001B[39;49m\u001B[43mjoint\u001B[49m\u001B[38;5;241;43m.\u001B[39;49m\u001B[43mattrib\u001B[49m\u001B[43m[\u001B[49m\u001B[38;5;124;43m\"\u001B[39;49m\u001B[38;5;124;43mname\u001B[39;49m\u001B[38;5;124;43m\"\u001B[39;49m\u001B[43m]\u001B[49m\u001B[43m,\u001B[49m\n\u001B[1;32m    274\u001B[0m \u001B[43m        \u001B[49m\u001B[43mbounds\u001B[49m\u001B[38;5;241;43m=\u001B[39;49m\u001B[38;5;28;43mtuple\u001B[39;49m\u001B[43m(\u001B[49m\u001B[43mbounds\u001B[49m\u001B[43m)\u001B[49m\u001B[43m,\u001B[49m\n\u001B[1;32m    275\u001B[0m \u001B[43m        \u001B[49m\u001B[43morigin_translation\u001B[49m\u001B[38;5;241;43m=\u001B[39;49m\u001B[43morigin_translation\u001B[49m\u001B[43m,\u001B[49m\n\u001B[1;32m    276\u001B[0m \u001B[43m        \u001B[49m\u001B[43morigin_orientation\u001B[49m\u001B[38;5;241;43m=\u001B[39;49m\u001B[43morigin_orientation\u001B[49m\u001B[43m,\u001B[49m\n\u001B[1;32m    277\u001B[0m \u001B[43m        \u001B[49m\u001B[43mrotation\u001B[49m\u001B[38;5;241;43m=\u001B[39;49m\u001B[43mrotation\u001B[49m\u001B[43m,\u001B[49m\n\u001B[1;32m    278\u001B[0m \u001B[43m        \u001B[49m\u001B[43mtranslation\u001B[49m\u001B[38;5;241;43m=\u001B[39;49m\u001B[43mtranslation\u001B[49m\u001B[43m,\u001B[49m\n\u001B[1;32m    279\u001B[0m \u001B[43m        \u001B[49m\u001B[43muse_symbolic_matrix\u001B[49m\u001B[38;5;241;43m=\u001B[39;49m\u001B[43msymbolic\u001B[49m\u001B[43m,\u001B[49m\n\u001B[1;32m    280\u001B[0m \u001B[43m        \u001B[49m\u001B[43mjoint_type\u001B[49m\u001B[38;5;241;43m=\u001B[39;49m\u001B[43mjoint_type\u001B[49m\n\u001B[1;32m    281\u001B[0m \u001B[43m    \u001B[49m\u001B[43m)\u001B[49m)\n\u001B[1;32m    283\u001B[0m \u001B[38;5;66;03m# Add last_link_vector to parameters\u001B[39;00m\n\u001B[1;32m    284\u001B[0m \u001B[38;5;28;01mif\u001B[39;00m last_link_vector \u001B[38;5;129;01mis\u001B[39;00m \u001B[38;5;129;01mnot\u001B[39;00m \u001B[38;5;28;01mNone\u001B[39;00m:\n\u001B[1;32m    285\u001B[0m     \u001B[38;5;66;03m# The last link doesn't provide a rotation\u001B[39;00m\n",
      "File \u001B[0;32m~/.local/lib/python3.8/site-packages/fasterikpy/link.py:120\u001B[0m, in \u001B[0;36mURDFLink.__init__\u001B[0;34m(self, name, origin_translation, origin_orientation, rotation, translation, bounds, angle_representation, use_symbolic_matrix, joint_type)\u001B[0m\n\u001B[1;32m    109\u001B[0m \u001B[38;5;28;01mdef\u001B[39;00m \u001B[38;5;21m__init__\u001B[39m(\u001B[38;5;28mself\u001B[39m,\n\u001B[1;32m    110\u001B[0m              name: \u001B[38;5;28mstr\u001B[39m,\n\u001B[1;32m    111\u001B[0m              origin_translation: cp\u001B[38;5;241m.\u001B[39mndarray,\n\u001B[0;32m   (...)\u001B[0m\n\u001B[1;32m    118\u001B[0m              joint_type: \u001B[38;5;28mstr\u001B[39m \u001B[38;5;241m=\u001B[39m \u001B[38;5;124m\"\u001B[39m\u001B[38;5;124mrevolute\u001B[39m\u001B[38;5;124m\"\u001B[39m\n\u001B[1;32m    119\u001B[0m              ):\n\u001B[0;32m--> 120\u001B[0m     Link\u001B[38;5;241m.\u001B[39m\u001B[38;5;21m__init__\u001B[39m(\u001B[38;5;28mself\u001B[39m, name\u001B[38;5;241m=\u001B[39mname, bounds\u001B[38;5;241m=\u001B[39mbounds, length\u001B[38;5;241m=\u001B[39m\u001B[43mcp\u001B[49m\u001B[38;5;241;43m.\u001B[39;49m\u001B[43mlinalg\u001B[49m\u001B[38;5;241;43m.\u001B[39;49m\u001B[43mnorm\u001B[49m\u001B[43m(\u001B[49m\u001B[43morigin_translation\u001B[49m\u001B[43m)\u001B[49m)\n\u001B[1;32m    121\u001B[0m     \u001B[38;5;28mself\u001B[39m\u001B[38;5;241m.\u001B[39muse_symbolic_matrix \u001B[38;5;241m=\u001B[39m use_symbolic_matrix\n\u001B[1;32m    122\u001B[0m     \u001B[38;5;28mself\u001B[39m\u001B[38;5;241m.\u001B[39morigin_translation \u001B[38;5;241m=\u001B[39m cp\u001B[38;5;241m.\u001B[39marray(origin_translation)\n",
      "File \u001B[0;32m~/.local/lib/python3.8/site-packages/cupy/linalg/_norms.py:49\u001B[0m, in \u001B[0;36mnorm\u001B[0;34m(x, ord, axis, keepdims)\u001B[0m\n\u001B[1;32m     31\u001B[0m \u001B[38;5;28;01mdef\u001B[39;00m \u001B[38;5;21mnorm\u001B[39m(x, \u001B[38;5;28mord\u001B[39m\u001B[38;5;241m=\u001B[39m\u001B[38;5;28;01mNone\u001B[39;00m, axis\u001B[38;5;241m=\u001B[39m\u001B[38;5;28;01mNone\u001B[39;00m, keepdims\u001B[38;5;241m=\u001B[39m\u001B[38;5;28;01mFalse\u001B[39;00m):\n\u001B[1;32m     32\u001B[0m \u001B[38;5;250m    \u001B[39m\u001B[38;5;124;03m\"\"\"Returns one of matrix norms specified by ``ord`` parameter.\u001B[39;00m\n\u001B[1;32m     33\u001B[0m \n\u001B[1;32m     34\u001B[0m \u001B[38;5;124;03m    See numpy.linalg.norm for more detail.\u001B[39;00m\n\u001B[0;32m   (...)\u001B[0m\n\u001B[1;32m     47\u001B[0m \n\u001B[1;32m     48\u001B[0m \u001B[38;5;124;03m    \"\"\"\u001B[39;00m\n\u001B[0;32m---> 49\u001B[0m     \u001B[38;5;28;01mif\u001B[39;00m \u001B[38;5;129;01mnot\u001B[39;00m \u001B[38;5;28missubclass\u001B[39m(\u001B[43mx\u001B[49m\u001B[38;5;241;43m.\u001B[39;49m\u001B[43mdtype\u001B[49m\u001B[38;5;241m.\u001B[39mtype, numpy\u001B[38;5;241m.\u001B[39minexact):\n\u001B[1;32m     50\u001B[0m         x \u001B[38;5;241m=\u001B[39m x\u001B[38;5;241m.\u001B[39mastype(\u001B[38;5;28mfloat\u001B[39m)\n\u001B[1;32m     52\u001B[0m     \u001B[38;5;66;03m# Immediately handle some default, simple, fast, and common cases.\u001B[39;00m\n",
      "\u001B[0;31mAttributeError\u001B[0m: 'list' object has no attribute 'dtype'"
     ]
    }
   ],
   "source": [
    "my_chain = fasterikpy.chain.Chain.from_urdf_file(\"../resources/poppy_ergo.URDF\")"
   ]
  },
  {
   "cell_type": "markdown",
   "metadata": {},
   "source": [
    "Note : as mentioned before, here we use a file in the resource folder."
   ]
  },
  {
   "cell_type": "markdown",
   "metadata": {},
   "source": [
    "# Inverse kinematics"
   ]
  },
  {
   "cell_type": "markdown",
   "metadata": {},
   "source": [
    "In Inverse Kinematics, you want your kinematic chain to reach a 3D position in space."
   ]
  },
  {
   "cell_type": "markdown",
   "metadata": {},
   "source": [
    "To have a more general representation of position, IKPy works with homogeneous coordinates. It is a 4x4 matrix storing both position and orientation.\n",
    "Prepare your desired position as a 4x4 matrix. Here we only consider position, not orientation of the chain."
   ]
  },
  {
   "cell_type": "code",
   "execution_count": null,
   "metadata": {},
   "outputs": [],
   "source": [
    "target_position = [ 0.1, -0.2, 0.1]"
   ]
  },
  {
   "cell_type": "code",
   "execution_count": null,
   "metadata": {
    "collapsed": false,
    "jupyter": {
     "outputs_hidden": false
    }
   },
   "outputs": [],
   "source": [
    "print(\"The angles of each joints are : \", my_chain.inverse_kinematics(target_position))"
   ]
  },
  {
   "cell_type": "markdown",
   "metadata": {},
   "source": [
    "You can check that the Inverse Kinematics is correct by comparing with the original position vector : "
   ]
  },
  {
   "cell_type": "code",
   "execution_count": null,
   "metadata": {
    "collapsed": false,
    "jupyter": {
     "outputs_hidden": false
    }
   },
   "outputs": [],
   "source": [
    "real_frame = my_chain.forward_kinematics(my_chain.inverse_kinematics(target_position))\n",
    "print(\"Computed position vector : %s, original position vector : %s\" % (real_frame[:3, 3], target_position))"
   ]
  },
  {
   "cell_type": "markdown",
   "metadata": {},
   "source": [
    "# Plotting\n",
    "And finally plot the result : "
   ]
  },
  {
   "cell_type": "markdown",
   "metadata": {},
   "source": [
    "(If the code below doesn't work, comment the `%maplotlib widget` line, and uncomment the `%matplotlib inline` line)"
   ]
  },
  {
   "cell_type": "code",
   "execution_count": null,
   "metadata": {
    "collapsed": false,
    "jupyter": {
     "outputs_hidden": false
    }
   },
   "outputs": [],
   "source": [
    "# Optional: support for 3D plotting in the NB\n",
    "# If there is a matplotlib error, uncomment the next line, and comment the line below it.\n",
    "# %matplotlib inline\n",
    "%matplotlib widget\n",
    "import matplotlib.pyplot as plt\n",
    "fig, ax = plot_utils.init_3d_figure()\n",
    "my_chain.plot(my_chain.inverse_kinematics(target_position), ax, target=target_position)\n",
    "plt.xlim(-0.1, 0.1)\n",
    "plt.ylim(-0.1, 0.1)"
   ]
  },
  {
   "cell_type": "markdown",
   "metadata": {},
   "source": [
    "You're done! Go to the [tutorials](https://github.com/Phylliade/ikpy/blob/master/tutorials/ikpy/getting_started.md) to understand the general concepts of the library."
   ]
  },
  {
   "cell_type": "code",
   "execution_count": null,
   "metadata": {},
   "outputs": [],
   "source": []
  }
 ],
 "metadata": {
  "kernelspec": {
   "display_name": "Python 3",
   "language": "python",
   "name": "python3"
  },
  "language_info": {
   "codemirror_mode": {
    "name": "ipython",
    "version": 3
   },
   "file_extension": ".py",
   "mimetype": "text/x-python",
   "name": "python",
   "nbconvert_exporter": "python",
   "pygments_lexer": "ipython3",
   "version": "3.9.6"
  },
  "pycharm": {
   "stem_cell": {
    "cell_type": "raw",
    "metadata": {
     "collapsed": false
    },
    "source": []
   }
  },
  "widgets": {
   "state": {},
   "version": "1.1.2"
  }
 },
 "nbformat": 4,
 "nbformat_minor": 4
}
